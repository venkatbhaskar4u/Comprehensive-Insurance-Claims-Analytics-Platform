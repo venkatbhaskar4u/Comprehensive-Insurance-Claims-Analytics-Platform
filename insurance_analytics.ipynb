import pandas as pd
import sqlalchemy
import matplotlib.pyplot as plt
import seaborn as sns

engine = sqlalchemy.create_engine("sqlite:///insurance.db")

# Monthly Claim Trends & Fraud
monthly = pd.read_sql("""
SELECT strftime('%Y-%m', claim_date) AS month, COUNT(*) AS claims,
       SUM(payout_amount) AS payout, SUM(is_fraud) AS frauds
FROM claims GROUP BY month ORDER BY month;
""", engine)
plt.figure(figsize=(10,4))
sns.lineplot(x='month', y='claims', data=monthly, marker='o')
plt.title('Monthly Claims')
plt.xticks(rotation=45)
plt.show()
sns.barplot(x='month', y='frauds', data=monthly)
plt.title('Monthly Fraudulent Claims')
plt.xticks(rotation=45)
plt.show()

# Customer Risk and KPIs
risk = pd.read_sql("""
SELECT c.customer_id, c.name, COUNT(cl.claim_id) AS num_claims, SUM(cl.claim_amount) AS total_claimed,
       SUM(cl.is_fraud) AS frauds, ROUND(AVG(cl.is_fraud)*100,1) as fraud_rate
FROM customers c
JOIN policies p ON c.customer_id = p.customer_id
JOIN claims cl ON p.policy_id = cl.policy_id
GROUP BY c.customer_id, c.name
ORDER BY fraud_rate DESC, total_claimed DESC;
""", engine)
print(risk.head())

# Agent Performance
agent_perf = pd.read_sql("""
SELECT ag.agent_id, ag.name, COUNT(cl.claim_id) as claims_handled, SUM(cl.payout_amount) as payouts,
       SUM(cl.is_fraud) as fraud_handled
FROM agents ag
JOIN policies p ON ag.agent_id = p.agent_id
JOIN claims cl ON p.policy_id = cl.policy_id
GROUP BY ag.agent_id, ag.name
ORDER BY claims_handled DESC;
""", engine)
print(agent_perf)

plt.figure(figsize=(6,4))
sns.barplot(x='name', y='claims_handled', data=agent_perf)
plt.title('Agent Claims Handled')
plt.show()
